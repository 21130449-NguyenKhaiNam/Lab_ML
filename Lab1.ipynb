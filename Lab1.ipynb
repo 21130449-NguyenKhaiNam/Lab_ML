{
  "nbformat": 4,
  "nbformat_minor": 0,
  "metadata": {
    "colab": {
      "provenance": [],
      "authorship_tag": "ABX9TyNGALV0l0hWlpa+CSzNiibF",
      "include_colab_link": true
    },
    "kernelspec": {
      "name": "python3",
      "display_name": "Python 3"
    },
    "language_info": {
      "name": "python"
    }
  },
  "cells": [
    {
      "cell_type": "markdown",
      "metadata": {
        "id": "view-in-github",
        "colab_type": "text"
      },
      "source": [
        "<a href=\"https://colab.research.google.com/github/21130449-NguyenKhaiNam/Lab_ML/blob/main/Lab1.ipynb\" target=\"_parent\"><img src=\"https://colab.research.google.com/assets/colab-badge.svg\" alt=\"Open In Colab\"/></a>"
      ]
    },
    {
      "cell_type": "markdown",
      "source": [
        "# Task 1: Python Programing"
      ],
      "metadata": {
        "id": "rTxnVCPUIRup"
      }
    },
    {
      "cell_type": "markdown",
      "source": [
        "Task 1.1"
      ],
      "metadata": {
        "id": "EzlMVntWIadL"
      }
    },
    {
      "cell_type": "code",
      "execution_count": null,
      "metadata": {
        "id": "3lNY6I5vitga"
      },
      "outputs": [],
      "source": [
        "import numpy as np\n",
        "n = int(input())\n",
        "numbers = [int(input()) for _ in range(n)]\n",
        "\n",
        "print('Max:', max(numbers))\n",
        "print('Min:', min(numbers))\n",
        "print('Sum:', sum(numbers))\n",
        "\n",
        "numbers.sort()\n",
        "print('Sort:', numbers)\n",
        "\n",
        "positive = np.sum(np.array(numbers) >= 0, axis=0)\n",
        "print('Positive:', positive)\n",
        "print('Navigation:', len(numbers) - positive)\n"
      ]
    },
    {
      "cell_type": "markdown",
      "source": [
        "Task 1.2"
      ],
      "metadata": {
        "id": "q43smpJMIggL"
      }
    },
    {
      "cell_type": "code",
      "source": [
        "def sumMulti(n):\n",
        "    if n < 0:\n",
        "        print(\"Don't navigation\")\n",
        "    return n if n <= 1 else multi(n) + sumMulti(n - 1)\n",
        "\n",
        "def multi(n):\n",
        "    if n < 0:\n",
        "        print(\"Don't navigation\")\n",
        "    return n if n <= 1 else n * multi(n - 1)\n",
        "\n",
        "print(sumMulti(5))"
      ],
      "metadata": {
        "id": "39sKifkEpeKu"
      },
      "execution_count": null,
      "outputs": []
    },
    {
      "cell_type": "markdown",
      "source": [
        "Task 1.3"
      ],
      "metadata": {
        "id": "tCCd78tBIjCj"
      }
    },
    {
      "cell_type": "code",
      "source": [
        "from datetime import datetime\n",
        "from typing import List\n",
        "\n",
        "class Account:\n",
        "    def __init__(self, name: str, email: str, country: str, friends: List['Account'], posts: List['Post']):\n",
        "        self.name = name\n",
        "        self.email = email\n",
        "        self.country = country\n",
        "        self.friends = friends\n",
        "        self.posts = posts\n",
        "\n",
        "    def __str__(self) -> str:\n",
        "        return 'Name: ' + self.name + ' Country: ' + self.country + ' Max post: ' + str(self.getMaxLikes()) + '\\n'\n",
        "\n",
        "    # Lấy ra lượt like nhiều nhất tại lớp đang đứng\n",
        "    def getMaxLikes(self):\n",
        "        return Post.create(max(self.posts, key= lambda post: post.getLikes, default=None))\n",
        "\n",
        "    # Lấy ra lượt like lớn nhất từ bài viết của tất cả bạn bè\n",
        "    def getMaxLikePostByFriend(self):\n",
        "        return max(self.friends, key=lambda friend: friend.getMaxLikes().getLikes, default=None)\n",
        "\n",
        "    # Lấy tổng lượt like các bài posts\n",
        "    def getTotalLikes(self):\n",
        "        return sum(post.getLikes for post in self.posts)\n",
        "\n",
        "class NormalAccount(Account):\n",
        "    def __str__(self) -> str:\n",
        "        return super().__str__()\n",
        "\n",
        "class VerifiedAccount(Account):\n",
        "    def __init__(self, name: str, email: str, country: str, friends: List['Account'], posts: List['Post'], fromDate: datetime):\n",
        "        super().__init__(name, email, country, friends, posts)\n",
        "        self.fromDate = fromDate\n",
        "\n",
        "class AccountManager:\n",
        "    def __init__(self, accounts: 'Account'):\n",
        "        self.accounts = accounts\n",
        "\n",
        "    @property\n",
        "    def getAccounts(self):\n",
        "        return self.accounts\n",
        "\n",
        "    def __str__(self) -> str:\n",
        "        return ' '.join(map(str, self.accounts))\n",
        "\n",
        "    def groupAccountsByPostLike(self) -> dict:\n",
        "        group = {\n",
        "            # Bé hơn 10\n",
        "            True: [],\n",
        "            # Lớn hơn hoặc bằng 10\n",
        "            False: []\n",
        "        }\n",
        "        for account in self.accounts:\n",
        "            group[account.getTotalLikes() < 10].append(account)\n",
        "        return group\n",
        "\n",
        "    # Lọc theo quốc gia\n",
        "    def filterAccounts(self, country: str) -> set:\n",
        "        return {account for account in self.accounts\n",
        "                if account.country.casefold() == country.casefold()}\n",
        "\n",
        "class Post:\n",
        "    def __init__(self, content: str, subject: str, likes: int):\n",
        "        self.content = content\n",
        "        self.subject = subject\n",
        "        self.likes = likes\n",
        "\n",
        "    def __str__(self) -> str:\n",
        "        return 'Content: ' + self.content + ' Likes: ' + str(self.likes)\n",
        "\n",
        "    @classmethod\n",
        "    def create(cls, post: 'Post'):\n",
        "       return cls(post.content, post.subject, post.likes)\n",
        "\n",
        "    @property\n",
        "    def getLikes(self):\n",
        "        return self.likes"
      ],
      "metadata": {
        "id": "3u9ZFTW_v_Z1"
      },
      "execution_count": null,
      "outputs": []
    },
    {
      "cell_type": "markdown",
      "source": [
        "# Task 2: Numpy API"
      ],
      "metadata": {
        "id": "objI1Zy6ImP0"
      }
    },
    {
      "cell_type": "markdown",
      "source": [
        "Task 2.1"
      ],
      "metadata": {
        "id": "jMniLVa6IqZY"
      }
    },
    {
      "cell_type": "code",
      "source": [
        "import numpy as np\n",
        "arr = np.arange(10, 26, 1)\n",
        "print(arr)\n",
        "reversed_arr = arr[::-1]\n",
        "print(reversed_arr)"
      ],
      "metadata": {
        "id": "Q3AAV2wwZl4u"
      },
      "execution_count": null,
      "outputs": []
    },
    {
      "cell_type": "markdown",
      "source": [
        "Task 2.2"
      ],
      "metadata": {
        "id": "iFV2zacNIs3Y"
      }
    },
    {
      "cell_type": "code",
      "source": [
        "import numpy as np\n",
        "\n",
        "def repeatingArray(arr: np.array, num: int):\n",
        "    print('Original array: ', arr)\n",
        "    for i in range(num):\n",
        "        repeating_array = np.concatenate([arr] * (i + 2))\n",
        "        print(f'Repeating {i + 2} times:', repeating_array)\n",
        "\n",
        "arr = np.array([1,2,3,4])\n",
        "repeatingArray(arr, 2)"
      ],
      "metadata": {
        "id": "lIMeE43oCI2J"
      },
      "execution_count": null,
      "outputs": []
    },
    {
      "cell_type": "markdown",
      "source": [
        "Task 2.3"
      ],
      "metadata": {
        "id": "DKYMQRw5Iugi"
      }
    },
    {
      "cell_type": "code",
      "source": [
        "import numpy as np\n",
        "\n",
        "# True: Greater than - False: Less than\n",
        "def replace(arr: np.array, num: float, isValue: bool, isEqual: bool):\n",
        "    print('Original array:', arr)\n",
        "    comparison_op = (np.greater_equal if isEqual else np.greater) if isValue else (np.less_equal if isEqual else np.less)\n",
        "    arr[np.nonzero(comparison_op(arr, num))] = num\n",
        "    print(f\"Replace all elements of the original array with {num} for values which are {'greater than' if isValue else 'less than'} {num}:\", arr)\n",
        "\n",
        "arr = np.array([[ 0.42, 0.48, 0.32], [0.74, 0.58, 0.38], [0.51, 0.34, 0.15]])\n",
        "replace(arr, .5, True, False)"
      ],
      "metadata": {
        "id": "xGEXEbDzH0nI"
      },
      "execution_count": null,
      "outputs": []
    }
  ]
}