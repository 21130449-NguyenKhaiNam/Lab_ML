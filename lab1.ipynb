{
  "nbformat": 4,
  "nbformat_minor": 0,
  "metadata": {
    "colab": {
      "provenance": [],
      "authorship_tag": "ABX9TyOijU57EC2hrL2vx+vqg/fy",
      "include_colab_link": true
    },
    "kernelspec": {
      "name": "python3",
      "display_name": "Python 3"
    },
    "language_info": {
      "name": "python"
    }
  },
  "cells": [
    {
      "cell_type": "markdown",
      "metadata": {
        "id": "view-in-github",
        "colab_type": "text"
      },
      "source": [
        "<a href=\"https://colab.research.google.com/github/21130449-NguyenKhaiNam/Lab_ML/blob/main/lab1.ipynb\" target=\"_parent\"><img src=\"https://colab.research.google.com/assets/colab-badge.svg\" alt=\"Open In Colab\"/></a>"
      ]
    },
    {
      "cell_type": "code",
      "source": [
        "import numpy as np"
      ],
      "metadata": {
        "id": "a4NCu1Cqn_V2"
      },
      "execution_count": 4,
      "outputs": []
    },
    {
      "cell_type": "code",
      "execution_count": 5,
      "metadata": {
        "id": "3lNY6I5vitga",
        "colab": {
          "base_uri": "https://localhost:8080/"
        },
        "outputId": "f9e9c928-f2eb-4017-ee33-b77464d4ac00"
      },
      "outputs": [
        {
          "output_type": "stream",
          "name": "stdout",
          "text": [
            "5\n",
            "-1\n",
            "10\n",
            "20\n",
            "5\n",
            "-6\n",
            "Max: 20\n",
            "Min: -6\n",
            "Sum: 28\n",
            "Sort: [-6, -1, 5, 10, 20]\n",
            "Positive: 3\n",
            "Navigation: 2\n"
          ]
        }
      ],
      "source": [
        "n = int(input())\n",
        "numbers = [int(input()) for _ in range(n)]\n",
        "\n",
        "print('Max:', max(numbers))\n",
        "print('Min:', min(numbers))\n",
        "print('Sum:', sum(numbers))\n",
        "\n",
        "numbers.sort()\n",
        "print('Sort:', numbers)\n",
        "\n",
        "positive = np.sum(np.array(numbers) >= 0, axis=0)\n",
        "print('Positive:', positive)\n",
        "print('Navigation:', len(numbers) - positive)\n"
      ]
    },
    {
      "cell_type": "code",
      "source": [
        "def sumMulti(n):\n",
        "    if n < 0:\n",
        "        print(\"Don't navigation\")\n",
        "    return n if n <= 1 else multi(n) + sumMulti(n - 1)\n",
        "\n",
        "def multi(n):\n",
        "    if n < 0:\n",
        "        print(\"Don't navigation\")\n",
        "    return n if n <= 1 else n * multi(n - 1)\n",
        "\n",
        "print(sumMulti(5))"
      ],
      "metadata": {
        "colab": {
          "base_uri": "https://localhost:8080/"
        },
        "id": "39sKifkEpeKu",
        "outputId": "3f1b9bbf-c5ad-428e-d884-9ef33500c765"
      },
      "execution_count": 2,
      "outputs": [
        {
          "output_type": "stream",
          "name": "stdout",
          "text": [
            "153\n"
          ]
        }
      ]
    },
    {
      "cell_type": "code",
      "source": [
        "from datetime import datetime\n",
        "from typing import List\n",
        "\n",
        "class Account:\n",
        "    def __init__(self, name: str, email: str, country: str, friends: List['Account'], posts: List['Post']):\n",
        "        self.name = name\n",
        "        self.email = email\n",
        "        self.country = country\n",
        "        self.friends = friends\n",
        "        self.posts = posts\n",
        "\n",
        "    def __str__(self) -> str:\n",
        "        return 'Name: ' + self.name + ' Country: ' + self.country + ' Max post: ' + str(self.getMaxLikes()) + '\\n'\n",
        "\n",
        "    # Lấy ra lượt like nhiều nhất tại lớp đang đứng\n",
        "    def getMaxLikes(self):\n",
        "        return Post.create(max(self.posts, key= lambda post: post.getLikes, default=None))\n",
        "\n",
        "    # Lấy ra lượt like lớn nhất từ bài viết của tất cả bạn bè\n",
        "    def getMaxLikePostByFriend(self):\n",
        "        return max(self.friends, key=lambda friend: friend.getMaxLikes().getLikes, default=None)\n",
        "\n",
        "    # Lấy tổng lượt like các bài posts\n",
        "    def getTotalLikes(self):\n",
        "        return sum(post.getLikes for post in self.posts)\n",
        "\n",
        "class NormalAccount(Account):\n",
        "    def __str__(self) -> str:\n",
        "        return super().__str__()\n",
        "\n",
        "class VerifiedAccount(Account):\n",
        "    def __init__(self, name: str, email: str, country: str, friends: List['Account'], posts: List['Post'], fromDate: datetime):\n",
        "        super().__init__(name, email, country, friends, posts)\n",
        "        self.fromDate = fromDate\n",
        "\n",
        "class AccountManager:\n",
        "    def __init__(self, accounts: 'Account'):\n",
        "        self.accounts = accounts\n",
        "\n",
        "    @property\n",
        "    def getAccounts(self):\n",
        "        return self.accounts\n",
        "\n",
        "    def __str__(self) -> str:\n",
        "        return ' '.join(map(str, self.accounts))\n",
        "\n",
        "    def groupAccountsByPostLike(self) -> dict:\n",
        "        group = {\n",
        "            # Bé hơn 10\n",
        "            True: [],\n",
        "            # Lớn hơn hoặc bằng 10\n",
        "            False: []\n",
        "        }\n",
        "        for account in self.accounts:\n",
        "            group[account.getTotalLikes() < 10].append(account)\n",
        "        return group\n",
        "\n",
        "    # Lọc theo quốc gia\n",
        "    def filterAccounts(self, country: str) -> set:\n",
        "        return {account for account in self.accounts\n",
        "                if account.country.casefold() == country.casefold()}\n",
        "\n",
        "class Post:\n",
        "    def __init__(self, content: str, subject: str, likes: int):\n",
        "        self.content = content\n",
        "        self.subject = subject\n",
        "        self.likes = likes\n",
        "\n",
        "    def __str__(self) -> str:\n",
        "        return 'Content: ' + self.content + ' Likes: ' + str(self.likes)\n",
        "\n",
        "    @classmethod\n",
        "    def create(cls, post: 'Post'):\n",
        "       return cls(post.content, post.subject, post.likes)\n",
        "\n",
        "    @property\n",
        "    def getLikes(self):\n",
        "        return self.likes"
      ],
      "metadata": {
        "id": "3u9ZFTW_v_Z1"
      },
      "execution_count": 1,
      "outputs": []
    },
    {
      "cell_type": "code",
      "source": [],
      "metadata": {
        "id": "Q3AAV2wwZl4u"
      },
      "execution_count": null,
      "outputs": []
    }
  ]
}